{
 "cells": [
  {
   "cell_type": "code",
   "execution_count": 1,
   "id": "21a8446f",
   "metadata": {},
   "outputs": [
    {
     "name": "stderr",
     "output_type": "stream",
     "text": [
      "/home/irodri15/.local/lib/python3.7/site-packages/pandas/compat/_optional.py:138: UserWarning: Pandas requires version '2.7.0' or newer of 'numexpr' (version '2.6.9' currently installed).\n",
      "  warnings.warn(msg, UserWarning)\n"
     ]
    }
   ],
   "source": [
    "from neural_harmonizer.data.dataset import Neural_dataset"
   ]
  },
  {
   "cell_type": "code",
   "execution_count": null,
   "id": "1a76f1a2",
   "metadata": {},
   "outputs": [],
   "source": []
  },
  {
   "cell_type": "code",
   "execution_count": 2,
   "id": "376b2786",
   "metadata": {},
   "outputs": [
    {
     "name": "stderr",
     "output_type": "stream",
     "text": [
      "INFO:File download Started…. Wait for the job to complete.\n",
      "INFO:File download completed. Check /home/irodri15/.keras/datasets/Arcaro2020.zip for the downloaded zip file.\n",
      "INFO:Downloading data from bucket.\n",
      "INFO:File download Started…. Wait for the job to complete.\n",
      "INFO:File download completed. Check /home/irodri15/.keras/datasets/Arcaro2020.zip for the downloaded zip file.\n",
      "INFO:Data downloaded.\n",
      "INFO:Data loaded.\n",
      "INFO:Data loaded.\n"
     ]
    }
   ],
   "source": [
    "neural_ds = Neural_dataset()\n",
    "X_or, X_pre, Y =  neural_ds.load_data(stimuli='george_central_it',time_a=130,time_b=170)\n"
   ]
  },
  {
   "cell_type": "code",
   "execution_count": 3,
   "id": "e649d28b",
   "metadata": {},
   "outputs": [
    {
     "data": {
      "text/plain": [
       "(14, 17, 17, 30)"
      ]
     },
     "execution_count": 3,
     "metadata": {},
     "output_type": "execute_result"
    }
   ],
   "source": [
    "Y.shape"
   ]
  },
  {
   "cell_type": "code",
   "execution_count": 4,
   "id": "82424325",
   "metadata": {},
   "outputs": [],
   "source": [
    "!pip install harmonization -q"
   ]
  },
  {
   "cell_type": "code",
   "execution_count": 6,
   "id": "9e0fc736",
   "metadata": {},
   "outputs": [
    {
     "name": "stdout",
     "output_type": "stream",
     "text": [
      "WARNING:tensorflow:No training configuration found in the save file, so the model was *not* compiled. Compile it manually.\n"
     ]
    },
    {
     "name": "stderr",
     "output_type": "stream",
     "text": [
      "WARNING:No training configuration found in the save file, so the model was *not* compiled. Compile it manually.\n"
     ]
    },
    {
     "name": "stdout",
     "output_type": "stream",
     "text": [
      "1/1 [==============================] - 0s 465ms/step\n",
      "([0.17311552, 0.15116914], [0.2752100840336134, 0.38078007822813614], [0.22264083601454718, 0.2394659642981764])\n",
      "1/1 [==============================] - 0s 476ms/step\n",
      "([0.0, 0.0], [-0.14096638655462182, 0.3151835381736846], [-0.07713032023541193, 0.24259290100849834])\n",
      "1/1 [==============================] - 1s 518ms/step\n"
     ]
    },
    {
     "name": "stderr",
     "output_type": "stream",
     "text": [
      "/home/irodri15/.local/lib/python3.7/site-packages/scipy/stats/stats.py:4484: SpearmanRConstantInputWarning: An input array is constant; the correlation coefficient is not defined.\n",
      "  warnings.warn(SpearmanRConstantInputWarning())\n",
      "/home/irodri15/.local/lib/python3.7/site-packages/scipy/stats/stats.py:4484: SpearmanRConstantInputWarning: An input array is constant; the correlation coefficient is not defined.\n",
      "  warnings.warn(SpearmanRConstantInputWarning())\n",
      "/home/irodri15/.local/lib/python3.7/site-packages/scipy/stats/stats.py:4484: SpearmanRConstantInputWarning: An input array is constant; the correlation coefficient is not defined.\n",
      "  warnings.warn(SpearmanRConstantInputWarning())\n",
      "/home/irodri15/.local/lib/python3.7/site-packages/scipy/stats/stats.py:4484: SpearmanRConstantInputWarning: An input array is constant; the correlation coefficient is not defined.\n",
      "  warnings.warn(SpearmanRConstantInputWarning())\n",
      "/home/irodri15/.local/lib/python3.7/site-packages/scipy/stats/stats.py:4484: SpearmanRConstantInputWarning: An input array is constant; the correlation coefficient is not defined.\n",
      "  warnings.warn(SpearmanRConstantInputWarning())\n",
      "/home/irodri15/.local/lib/python3.7/site-packages/scipy/stats/stats.py:4484: SpearmanRConstantInputWarning: An input array is constant; the correlation coefficient is not defined.\n",
      "  warnings.warn(SpearmanRConstantInputWarning())\n",
      "/home/irodri15/.local/lib/python3.7/site-packages/scipy/stats/stats.py:4484: SpearmanRConstantInputWarning: An input array is constant; the correlation coefficient is not defined.\n",
      "  warnings.warn(SpearmanRConstantInputWarning())\n",
      "/home/irodri15/.local/lib/python3.7/site-packages/scipy/stats/stats.py:4484: SpearmanRConstantInputWarning: An input array is constant; the correlation coefficient is not defined.\n",
      "  warnings.warn(SpearmanRConstantInputWarning())\n",
      "/home/irodri15/.local/lib/python3.7/site-packages/scipy/stats/stats.py:4484: SpearmanRConstantInputWarning: An input array is constant; the correlation coefficient is not defined.\n",
      "  warnings.warn(SpearmanRConstantInputWarning())\n",
      "/home/irodri15/.local/lib/python3.7/site-packages/scipy/stats/stats.py:4484: SpearmanRConstantInputWarning: An input array is constant; the correlation coefficient is not defined.\n",
      "  warnings.warn(SpearmanRConstantInputWarning())\n",
      "/home/irodri15/.local/lib/python3.7/site-packages/scipy/stats/stats.py:4484: SpearmanRConstantInputWarning: An input array is constant; the correlation coefficient is not defined.\n",
      "  warnings.warn(SpearmanRConstantInputWarning())\n",
      "/home/irodri15/.local/lib/python3.7/site-packages/scipy/stats/stats.py:4484: SpearmanRConstantInputWarning: An input array is constant; the correlation coefficient is not defined.\n",
      "  warnings.warn(SpearmanRConstantInputWarning())\n",
      "/home/irodri15/.local/lib/python3.7/site-packages/scipy/stats/stats.py:4484: SpearmanRConstantInputWarning: An input array is constant; the correlation coefficient is not defined.\n",
      "  warnings.warn(SpearmanRConstantInputWarning())\n",
      "/home/irodri15/.local/lib/python3.7/site-packages/scipy/stats/stats.py:4484: SpearmanRConstantInputWarning: An input array is constant; the correlation coefficient is not defined.\n",
      "  warnings.warn(SpearmanRConstantInputWarning())\n"
     ]
    },
    {
     "name": "stdout",
     "output_type": "stream",
     "text": [
      "([nan, nan], [nan, nan], [nan, nan])\n",
      "1/1 [==============================] - 1s 699ms/step\n",
      "([nan, nan], [nan, nan], [nan, nan])\n",
      "1/1 [==============================] - 1s 510ms/step\n",
      "([0.01089283, 0.01737643], [0.048109243697478994, 0.272006256885836], [0.05076477165818066, 0.09316207300363512])\n",
      "1/1 [==============================] - 0s 488ms/step\n",
      "([-0.007901607, 0.033051375], [0.05798319327731093, 0.23788341211619862], [-0.014901467261325633, 0.10611390600618903])\n",
      "1/1 [==============================] - 1s 532ms/step\n",
      "([0.301383, 0.18025328], [0.5266806722689075, 0.2570471515476819], [0.4090889242157726, 0.256146420727148])\n",
      "1/1 [==============================] - 1s 567ms/step\n",
      "([0.28297466, 0.18065383], [0.4334033613445377, 0.31036551240231375], [0.3695231388740629, 0.2464212540472529])\n",
      "1/1 [==============================] - 1s 519ms/step\n",
      "1/1 [==============================] - 0s 500ms/step\n"
     ]
    }
   ],
   "source": [
    "import tensorflow as tf\n",
    "from neural_harmonizer.evaluation import score_model\n",
    "from harmonization.models import load_ResNet50\n",
    "# harmonized_resnet\n",
    "model= load_ResNet50()\n",
    "\n",
    "scores=[]\n",
    "for layer in model.layers[-10:]:\n",
    "    name = layer.name\n",
    "    nn = name.replace('/','_') \n",
    "    try: \n",
    "        activation_model = tf.keras.Model(model.input, model.get_layer(name).output)\n",
    "        layer_brain_score, dice_1,dice_2 =score_model(activation_model,X_pre,Y,grid_size=17)\n",
    "        scores.append(layer_brain_score)\n",
    "        print(f'Layer {nn} score:',layer_brainscore[0])\n",
    "    except Exception as e: \n",
    "        \n",
    "        continue\n",
    "brain_score = max(scores)\n",
    "print('Brainscore for your model is :', brain_score)"
   ]
  },
  {
   "cell_type": "code",
   "execution_count": null,
   "id": "609c9d7f",
   "metadata": {},
   "outputs": [],
   "source": [
    "Y[0].mean(axis=2).shape"
   ]
  },
  {
   "cell_type": "code",
   "execution_count": null,
   "id": "537ee1fb",
   "metadata": {},
   "outputs": [],
   "source": []
  }
 ],
 "metadata": {
  "kernelspec": {
   "display_name": "Python 3",
   "language": "python",
   "name": "python3"
  },
  "language_info": {
   "codemirror_mode": {
    "name": "ipython",
    "version": 3
   },
   "file_extension": ".py",
   "mimetype": "text/x-python",
   "name": "python",
   "nbconvert_exporter": "python",
   "pygments_lexer": "ipython3",
   "version": "3.7.3"
  }
 },
 "nbformat": 4,
 "nbformat_minor": 5
}
