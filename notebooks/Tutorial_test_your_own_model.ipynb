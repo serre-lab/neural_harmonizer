{
 "cells": [
  {
   "cell_type": "code",
   "execution_count": 4,
   "id": "8ff438a0",
   "metadata": {},
   "outputs": [],
   "source": [
    "import tensorflow as tf\n",
    "from neural_harmonizer.data.dataset import Neural_dataset\n",
    "from neural_harmonizer.evaluation.metrics import ceiling_score \n",
    "from neural_harmonizer.evaluation import score_model\n",
    "\n"
   ]
  },
  {
   "cell_type": "code",
   "execution_count": 1,
   "id": "1f4323b9",
   "metadata": {},
   "outputs": [],
   "source": [
    "#!pip install harmonization -q\n",
    "from harmonization.models import load_ResNet50"
   ]
  },
  {
   "cell_type": "markdown",
   "id": "7d5c59ff",
   "metadata": {},
   "source": [
    "# George Central it. "
   ]
  },
  {
   "cell_type": "code",
   "execution_count": 5,
   "id": "adce6d05",
   "metadata": {},
   "outputs": [],
   "source": [
    "# You can use either spearman correlation or pearson. As well, for the reduction either median or mean. \n",
    "# Originally Brainscore was performed with spearman, but latest paper establishes pearson. You can use either one. \n",
    "correlation_fn ='pearson'\n",
    "reducer='median'"
   ]
  },
  {
   "cell_type": "code",
   "execution_count": 6,
   "id": "1687349a",
   "metadata": {},
   "outputs": [
    {
     "name": "stderr",
     "output_type": "stream",
     "text": [
      "INFO:File download Started…. Wait for the job to complete.\n",
      "INFO:File download completed. Check /home/irodri15/.keras/datasets/Arcaro2020.zip for the downloaded zip file.\n",
      "INFO:Downloading data from bucket.\n",
      "INFO:File download Started…. Wait for the job to complete.\n",
      "INFO:File download completed. Check /home/irodri15/.keras/datasets/Arcaro2020.zip for the downloaded zip file.\n",
      "INFO:Data downloaded.\n",
      "INFO:Data loaded.\n",
      "INFO:Data loaded.\n"
     ]
    }
   ],
   "source": [
    "neural_ds = Neural_dataset()\n",
    "X_or, X_pre, Y =  neural_ds.load_data(stimuli='george_central_it',time_a=130,time_b=170)\n"
   ]
  },
  {
   "cell_type": "code",
   "execution_count": 7,
   "id": "07b29120",
   "metadata": {},
   "outputs": [],
   "source": [
    "neural_array= neural_ds.george_central_it\n",
    "ceil_score = ceiling_score(neural_array,time_a=130,time_b=170, correlation_fn =correlation_fn)\n"
   ]
  },
  {
   "cell_type": "code",
   "execution_count": 8,
   "id": "f257840a",
   "metadata": {},
   "outputs": [
    {
     "data": {
      "text/plain": [
       "0.6966332537986386"
      ]
     },
     "execution_count": 8,
     "metadata": {},
     "output_type": "execute_result"
    }
   ],
   "source": [
    "ceil_score"
   ]
  },
  {
   "cell_type": "code",
   "execution_count": 9,
   "id": "eb7c620f",
   "metadata": {},
   "outputs": [
    {
     "name": "stderr",
     "output_type": "stream",
     "text": [
      "DEBUG:Creating converter from 3 to 5\n"
     ]
    },
    {
     "name": "stdout",
     "output_type": "stream",
     "text": [
      "WARNING:tensorflow:No training configuration found in the save file, so the model was *not* compiled. Compile it manually.\n"
     ]
    },
    {
     "name": "stderr",
     "output_type": "stream",
     "text": [
      "WARNING:No training configuration found in the save file, so the model was *not* compiled. Compile it manually.\n"
     ]
    },
    {
     "name": "stdout",
     "output_type": "stream",
     "text": [
      "1/1 [==============================] - 3s 3s/step\n",
      "Layer activation_46 score: 0.23709394\n",
      "1/1 [==============================] - 0s 468ms/step\n",
      "Layer res5c_branch2b score: 0.0\n",
      "1/1 [==============================] - 0s 471ms/step\n"
     ]
    },
    {
     "name": "stderr",
     "output_type": "stream",
     "text": [
      "/home/irodri15/.local/lib/python3.7/site-packages/scipy/stats/stats.py:4484: SpearmanRConstantInputWarning: An input array is constant; the correlation coefficient is not defined.\n",
      "  warnings.warn(SpearmanRConstantInputWarning())\n",
      "/home/irodri15/.local/lib/python3.7/site-packages/scipy/stats/stats.py:4484: SpearmanRConstantInputWarning: An input array is constant; the correlation coefficient is not defined.\n",
      "  warnings.warn(SpearmanRConstantInputWarning())\n",
      "/home/irodri15/.local/lib/python3.7/site-packages/scipy/stats/stats.py:4484: SpearmanRConstantInputWarning: An input array is constant; the correlation coefficient is not defined.\n",
      "  warnings.warn(SpearmanRConstantInputWarning())\n",
      "/home/irodri15/.local/lib/python3.7/site-packages/scipy/stats/stats.py:4484: SpearmanRConstantInputWarning: An input array is constant; the correlation coefficient is not defined.\n",
      "  warnings.warn(SpearmanRConstantInputWarning())\n",
      "/home/irodri15/.local/lib/python3.7/site-packages/scipy/stats/stats.py:4484: SpearmanRConstantInputWarning: An input array is constant; the correlation coefficient is not defined.\n",
      "  warnings.warn(SpearmanRConstantInputWarning())\n",
      "/home/irodri15/.local/lib/python3.7/site-packages/scipy/stats/stats.py:4484: SpearmanRConstantInputWarning: An input array is constant; the correlation coefficient is not defined.\n",
      "  warnings.warn(SpearmanRConstantInputWarning())\n",
      "/home/irodri15/.local/lib/python3.7/site-packages/scipy/stats/stats.py:4484: SpearmanRConstantInputWarning: An input array is constant; the correlation coefficient is not defined.\n",
      "  warnings.warn(SpearmanRConstantInputWarning())\n",
      "/home/irodri15/.local/lib/python3.7/site-packages/scipy/stats/stats.py:4484: SpearmanRConstantInputWarning: An input array is constant; the correlation coefficient is not defined.\n",
      "  warnings.warn(SpearmanRConstantInputWarning())\n",
      "/home/irodri15/.local/lib/python3.7/site-packages/scipy/stats/stats.py:4484: SpearmanRConstantInputWarning: An input array is constant; the correlation coefficient is not defined.\n",
      "  warnings.warn(SpearmanRConstantInputWarning())\n",
      "/home/irodri15/.local/lib/python3.7/site-packages/scipy/stats/stats.py:4484: SpearmanRConstantInputWarning: An input array is constant; the correlation coefficient is not defined.\n",
      "  warnings.warn(SpearmanRConstantInputWarning())\n",
      "/home/irodri15/.local/lib/python3.7/site-packages/scipy/stats/stats.py:4484: SpearmanRConstantInputWarning: An input array is constant; the correlation coefficient is not defined.\n",
      "  warnings.warn(SpearmanRConstantInputWarning())\n",
      "/home/irodri15/.local/lib/python3.7/site-packages/scipy/stats/stats.py:4484: SpearmanRConstantInputWarning: An input array is constant; the correlation coefficient is not defined.\n",
      "  warnings.warn(SpearmanRConstantInputWarning())\n",
      "/home/irodri15/.local/lib/python3.7/site-packages/scipy/stats/stats.py:4484: SpearmanRConstantInputWarning: An input array is constant; the correlation coefficient is not defined.\n",
      "  warnings.warn(SpearmanRConstantInputWarning())\n",
      "/home/irodri15/.local/lib/python3.7/site-packages/scipy/stats/stats.py:4484: SpearmanRConstantInputWarning: An input array is constant; the correlation coefficient is not defined.\n",
      "  warnings.warn(SpearmanRConstantInputWarning())\n"
     ]
    },
    {
     "name": "stdout",
     "output_type": "stream",
     "text": [
      "Layer bn5c_branch2b score: nan\n",
      "1/1 [==============================] - 0s 481ms/step\n",
      "Layer activation_47 score: nan\n",
      "WARNING:tensorflow:5 out of the last 5 calls to <function Model.make_predict_function.<locals>.predict_function at 0x7fbc8cbc6e18> triggered tf.function retracing. Tracing is expensive and the excessive number of tracings could be due to (1) creating @tf.function repeatedly in a loop, (2) passing tensors with different shapes, (3) passing Python objects instead of tensors. For (1), please define your @tf.function outside of the loop. For (2), @tf.function has reduce_retracing=True option that can avoid unnecessary retracing. For (3), please refer to https://www.tensorflow.org/guide/function#controlling_retracing and https://www.tensorflow.org/api_docs/python/tf/function for  more details.\n"
     ]
    },
    {
     "name": "stderr",
     "output_type": "stream",
     "text": [
      "WARNING:5 out of the last 5 calls to <function Model.make_predict_function.<locals>.predict_function at 0x7fbc8cbc6e18> triggered tf.function retracing. Tracing is expensive and the excessive number of tracings could be due to (1) creating @tf.function repeatedly in a loop, (2) passing tensors with different shapes, (3) passing Python objects instead of tensors. For (1), please define your @tf.function outside of the loop. For (2), @tf.function has reduce_retracing=True option that can avoid unnecessary retracing. For (3), please refer to https://www.tensorflow.org/guide/function#controlling_retracing and https://www.tensorflow.org/api_docs/python/tf/function for  more details.\n"
     ]
    },
    {
     "name": "stdout",
     "output_type": "stream",
     "text": [
      "1/1 [==============================] - 0s 494ms/step\n",
      "Layer res5c_branch2c score: 0.006695277\n",
      "WARNING:tensorflow:6 out of the last 6 calls to <function Model.make_predict_function.<locals>.predict_function at 0x7fbc8ca88d90> triggered tf.function retracing. Tracing is expensive and the excessive number of tracings could be due to (1) creating @tf.function repeatedly in a loop, (2) passing tensors with different shapes, (3) passing Python objects instead of tensors. For (1), please define your @tf.function outside of the loop. For (2), @tf.function has reduce_retracing=True option that can avoid unnecessary retracing. For (3), please refer to https://www.tensorflow.org/guide/function#controlling_retracing and https://www.tensorflow.org/api_docs/python/tf/function for  more details.\n"
     ]
    },
    {
     "name": "stderr",
     "output_type": "stream",
     "text": [
      "WARNING:6 out of the last 6 calls to <function Model.make_predict_function.<locals>.predict_function at 0x7fbc8ca88d90> triggered tf.function retracing. Tracing is expensive and the excessive number of tracings could be due to (1) creating @tf.function repeatedly in a loop, (2) passing tensors with different shapes, (3) passing Python objects instead of tensors. For (1), please define your @tf.function outside of the loop. For (2), @tf.function has reduce_retracing=True option that can avoid unnecessary retracing. For (3), please refer to https://www.tensorflow.org/guide/function#controlling_retracing and https://www.tensorflow.org/api_docs/python/tf/function for  more details.\n"
     ]
    },
    {
     "name": "stdout",
     "output_type": "stream",
     "text": [
      "1/1 [==============================] - 0s 491ms/step\n",
      "Layer bn5c_branch2c score: -0.009749646\n",
      "1/1 [==============================] - 0s 486ms/step\n",
      "Layer add_15 score: 0.41487405\n",
      "1/1 [==============================] - 0s 482ms/step\n",
      "Layer activation_48 score: 0.39004618\n",
      "1/1 [==============================] - 0s 485ms/step\n",
      "1/1 [==============================] - 1s 531ms/step\n",
      "Unceiled Brainscore for your model is : 0.41487405\n",
      "ceiled Brainscore for your model is : 0.5955415489839054\n"
     ]
    }
   ],
   "source": [
    "# harmonized_resnet\n",
    "model= load_ResNet50()\n",
    "scores=[]\n",
    "for layer in model.layers[-10:]:\n",
    "    name = layer.name\n",
    "    nn = name.replace('/','_') \n",
    "    try: \n",
    "        activation_model = tf.keras.Model(model.input, model.get_layer(name).output)\n",
    "        activity_array = activation_model.predict(X_pre)\n",
    "        layer_brainscore, dice_1 =score_model(activity_array,Y,grid_size=17, correlation_fn =correlation_fn,reducer=reducer)\n",
    "        scores.append(layer_brainscore[0])\n",
    "        print(f'Layer {nn} score:',layer_brainscore[0])\n",
    "    except Exception as e: \n",
    "        \n",
    "        continue\n",
    "brain_score = max(scores)\n",
    "print('Unceiled Brainscore for your model is :', brain_score)\n",
    "print('ceiled Brainscore for your model is :', brain_score/ceil_score)"
   ]
  },
  {
   "cell_type": "markdown",
   "id": "0f320a76",
   "metadata": {},
   "source": [
    "# George Posterior IT "
   ]
  },
  {
   "cell_type": "code",
   "execution_count": 10,
   "id": "7a79b8da",
   "metadata": {},
   "outputs": [
    {
     "name": "stderr",
     "output_type": "stream",
     "text": [
      "INFO:Downloading data from bucket.\n",
      "INFO:File download Started…. Wait for the job to complete.\n",
      "INFO:File download completed. Check /home/irodri15/.keras/datasets/Arcaro2020.zip for the downloaded zip file.\n",
      "INFO:Data downloaded.\n",
      "INFO:Data loaded.\n",
      "INFO:Data loaded.\n"
     ]
    }
   ],
   "source": [
    "X_or, X_pre, Y =  neural_ds.load_data(stimuli='george_posterior_it',time_a=90,time_b=130)"
   ]
  },
  {
   "cell_type": "code",
   "execution_count": 12,
   "id": "734806fb",
   "metadata": {},
   "outputs": [
    {
     "name": "stdout",
     "output_type": "stream",
     "text": [
      "0.7892991272493386\n"
     ]
    }
   ],
   "source": [
    "neural_array= neural_ds.george_posterior_it\n",
    "ceil_score = ceiling_score(neural_array,time_a=90,time_b=130, correlation_fn ='pearson')\n",
    "print(ceil_score)"
   ]
  },
  {
   "cell_type": "code",
   "execution_count": 13,
   "id": "09bdb042",
   "metadata": {},
   "outputs": [
    {
     "name": "stdout",
     "output_type": "stream",
     "text": [
      "WARNING:tensorflow:No training configuration found in the save file, so the model was *not* compiled. Compile it manually.\n"
     ]
    },
    {
     "name": "stderr",
     "output_type": "stream",
     "text": [
      "WARNING:No training configuration found in the save file, so the model was *not* compiled. Compile it manually.\n"
     ]
    },
    {
     "name": "stdout",
     "output_type": "stream",
     "text": [
      "1/1 [==============================] - 1s 524ms/step\n",
      "Layer activation_46 score: 0.23592623\n",
      "1/1 [==============================] - 0s 484ms/step\n",
      "Layer res5c_branch2b score: 0.0\n",
      "1/1 [==============================] - 1s 754ms/step\n"
     ]
    },
    {
     "name": "stderr",
     "output_type": "stream",
     "text": [
      "/home/irodri15/.local/lib/python3.7/site-packages/scipy/stats/stats.py:4484: SpearmanRConstantInputWarning: An input array is constant; the correlation coefficient is not defined.\n",
      "  warnings.warn(SpearmanRConstantInputWarning())\n",
      "/home/irodri15/.local/lib/python3.7/site-packages/scipy/stats/stats.py:4484: SpearmanRConstantInputWarning: An input array is constant; the correlation coefficient is not defined.\n",
      "  warnings.warn(SpearmanRConstantInputWarning())\n",
      "/home/irodri15/.local/lib/python3.7/site-packages/scipy/stats/stats.py:4484: SpearmanRConstantInputWarning: An input array is constant; the correlation coefficient is not defined.\n",
      "  warnings.warn(SpearmanRConstantInputWarning())\n",
      "/home/irodri15/.local/lib/python3.7/site-packages/scipy/stats/stats.py:4484: SpearmanRConstantInputWarning: An input array is constant; the correlation coefficient is not defined.\n",
      "  warnings.warn(SpearmanRConstantInputWarning())\n",
      "/home/irodri15/.local/lib/python3.7/site-packages/scipy/stats/stats.py:4484: SpearmanRConstantInputWarning: An input array is constant; the correlation coefficient is not defined.\n",
      "  warnings.warn(SpearmanRConstantInputWarning())\n",
      "/home/irodri15/.local/lib/python3.7/site-packages/scipy/stats/stats.py:4484: SpearmanRConstantInputWarning: An input array is constant; the correlation coefficient is not defined.\n",
      "  warnings.warn(SpearmanRConstantInputWarning())\n",
      "/home/irodri15/.local/lib/python3.7/site-packages/scipy/stats/stats.py:4484: SpearmanRConstantInputWarning: An input array is constant; the correlation coefficient is not defined.\n",
      "  warnings.warn(SpearmanRConstantInputWarning())\n",
      "/home/irodri15/.local/lib/python3.7/site-packages/scipy/stats/stats.py:4484: SpearmanRConstantInputWarning: An input array is constant; the correlation coefficient is not defined.\n",
      "  warnings.warn(SpearmanRConstantInputWarning())\n",
      "/home/irodri15/.local/lib/python3.7/site-packages/scipy/stats/stats.py:4484: SpearmanRConstantInputWarning: An input array is constant; the correlation coefficient is not defined.\n",
      "  warnings.warn(SpearmanRConstantInputWarning())\n",
      "/home/irodri15/.local/lib/python3.7/site-packages/scipy/stats/stats.py:4484: SpearmanRConstantInputWarning: An input array is constant; the correlation coefficient is not defined.\n",
      "  warnings.warn(SpearmanRConstantInputWarning())\n",
      "/home/irodri15/.local/lib/python3.7/site-packages/scipy/stats/stats.py:4484: SpearmanRConstantInputWarning: An input array is constant; the correlation coefficient is not defined.\n",
      "  warnings.warn(SpearmanRConstantInputWarning())\n",
      "/home/irodri15/.local/lib/python3.7/site-packages/scipy/stats/stats.py:4484: SpearmanRConstantInputWarning: An input array is constant; the correlation coefficient is not defined.\n",
      "  warnings.warn(SpearmanRConstantInputWarning())\n",
      "/home/irodri15/.local/lib/python3.7/site-packages/scipy/stats/stats.py:4484: SpearmanRConstantInputWarning: An input array is constant; the correlation coefficient is not defined.\n",
      "  warnings.warn(SpearmanRConstantInputWarning())\n",
      "/home/irodri15/.local/lib/python3.7/site-packages/scipy/stats/stats.py:4484: SpearmanRConstantInputWarning: An input array is constant; the correlation coefficient is not defined.\n",
      "  warnings.warn(SpearmanRConstantInputWarning())\n"
     ]
    },
    {
     "name": "stdout",
     "output_type": "stream",
     "text": [
      "Layer bn5c_branch2b score: nan\n",
      "1/1 [==============================] - 0s 500ms/step\n",
      "Layer activation_47 score: nan\n",
      "1/1 [==============================] - 0s 487ms/step\n",
      "Layer res5c_branch2c score: -0.007749143\n",
      "1/1 [==============================] - 0s 492ms/step\n",
      "Layer bn5c_branch2c score: -0.006924058\n",
      "1/1 [==============================] - 0s 490ms/step\n",
      "Layer add_15 score: 0.31852308\n",
      "1/1 [==============================] - 1s 555ms/step\n",
      "Layer activation_48 score: 0.27363652\n",
      "1/1 [==============================] - 0s 489ms/step\n",
      "1/1 [==============================] - 0s 490ms/step\n",
      "Unceiled Brainscore for your model is : 0.31852308\n",
      "ceiled Brainscore for your model is : 0.4035517944469417\n"
     ]
    }
   ],
   "source": [
    "# harmonized_resnet\n",
    "model= load_ResNet50()\n",
    "scores=[]\n",
    "for layer in model.layers[-10:]:\n",
    "    name = layer.name\n",
    "    nn = name.replace('/','_') \n",
    "    try: \n",
    "        activation_model = tf.keras.Model(model.input, model.get_layer(name).output)\n",
    "        activity_array = activation_model.predict(X_pre)\n",
    "        layer_brainscore, dice_1 =score_model(activity_array,Y,grid_size=17)\n",
    "        scores.append(layer_brainscore[0])\n",
    "        print(f'Layer {nn} score:',layer_brainscore[0])\n",
    "    except Exception as e: \n",
    "        \n",
    "        continue\n",
    "brain_score = max(scores)\n",
    "print('Unceiled Brainscore for your model is :', brain_score)\n",
    "print('ceiled Brainscore for your model is :', brain_score/ceil_score)"
   ]
  },
  {
   "cell_type": "markdown",
   "id": "71483d3f",
   "metadata": {},
   "source": [
    "# Red Central IT"
   ]
  },
  {
   "cell_type": "code",
   "execution_count": 14,
   "id": "a16ff0d7",
   "metadata": {},
   "outputs": [
    {
     "name": "stderr",
     "output_type": "stream",
     "text": [
      "INFO:Downloading data from bucket.\n",
      "INFO:File download Started…. Wait for the job to complete.\n",
      "INFO:File download completed. Check /home/irodri15/.keras/datasets/Arcaro2020.zip for the downloaded zip file.\n",
      "INFO:Data downloaded.\n",
      "INFO:Data loaded.\n",
      "INFO:Data loaded.\n"
     ]
    }
   ],
   "source": [
    "X_or, X_pre, Y =  neural_ds.load_data(stimuli='red_central_it',time_a=90,time_b=130)"
   ]
  },
  {
   "cell_type": "code",
   "execution_count": 18,
   "id": "f1a0e07e",
   "metadata": {},
   "outputs": [],
   "source": [
    "neural_array= neural_ds.red_central_it\n",
    "ceil_score = ceiling_score(neural_array,time_a=90,time_b=130, correlation_fn ='pearson')"
   ]
  },
  {
   "cell_type": "code",
   "execution_count": 19,
   "id": "14c6fd47",
   "metadata": {},
   "outputs": [
    {
     "data": {
      "text/plain": [
       "0.6134562946939538"
      ]
     },
     "execution_count": 19,
     "metadata": {},
     "output_type": "execute_result"
    }
   ],
   "source": []
  },
  {
   "cell_type": "code",
   "execution_count": 20,
   "id": "a4850c90",
   "metadata": {},
   "outputs": [
    {
     "name": "stdout",
     "output_type": "stream",
     "text": [
      "WARNING:tensorflow:No training configuration found in the save file, so the model was *not* compiled. Compile it manually.\n"
     ]
    },
    {
     "name": "stderr",
     "output_type": "stream",
     "text": [
      "WARNING:No training configuration found in the save file, so the model was *not* compiled. Compile it manually.\n"
     ]
    },
    {
     "name": "stdout",
     "output_type": "stream",
     "text": [
      "1/1 [==============================] - 0s 493ms/step\n",
      "Layer activation_46 score: 0.30996594\n",
      "1/1 [==============================] - 1s 521ms/step\n",
      "Layer res5c_branch2b score: 0.0\n",
      "1/1 [==============================] - 1s 503ms/step\n"
     ]
    },
    {
     "name": "stderr",
     "output_type": "stream",
     "text": [
      "/home/irodri15/.local/lib/python3.7/site-packages/scipy/stats/stats.py:4484: SpearmanRConstantInputWarning: An input array is constant; the correlation coefficient is not defined.\n",
      "  warnings.warn(SpearmanRConstantInputWarning())\n",
      "/home/irodri15/.local/lib/python3.7/site-packages/scipy/stats/stats.py:4484: SpearmanRConstantInputWarning: An input array is constant; the correlation coefficient is not defined.\n",
      "  warnings.warn(SpearmanRConstantInputWarning())\n",
      "/home/irodri15/.local/lib/python3.7/site-packages/scipy/stats/stats.py:4484: SpearmanRConstantInputWarning: An input array is constant; the correlation coefficient is not defined.\n",
      "  warnings.warn(SpearmanRConstantInputWarning())\n",
      "/home/irodri15/.local/lib/python3.7/site-packages/scipy/stats/stats.py:4484: SpearmanRConstantInputWarning: An input array is constant; the correlation coefficient is not defined.\n",
      "  warnings.warn(SpearmanRConstantInputWarning())\n",
      "/home/irodri15/.local/lib/python3.7/site-packages/scipy/stats/stats.py:4484: SpearmanRConstantInputWarning: An input array is constant; the correlation coefficient is not defined.\n",
      "  warnings.warn(SpearmanRConstantInputWarning())\n",
      "/home/irodri15/.local/lib/python3.7/site-packages/scipy/stats/stats.py:4484: SpearmanRConstantInputWarning: An input array is constant; the correlation coefficient is not defined.\n",
      "  warnings.warn(SpearmanRConstantInputWarning())\n",
      "/home/irodri15/.local/lib/python3.7/site-packages/scipy/stats/stats.py:4484: SpearmanRConstantInputWarning: An input array is constant; the correlation coefficient is not defined.\n",
      "  warnings.warn(SpearmanRConstantInputWarning())\n",
      "/home/irodri15/.local/lib/python3.7/site-packages/scipy/stats/stats.py:4484: SpearmanRConstantInputWarning: An input array is constant; the correlation coefficient is not defined.\n",
      "  warnings.warn(SpearmanRConstantInputWarning())\n",
      "/home/irodri15/.local/lib/python3.7/site-packages/scipy/stats/stats.py:4484: SpearmanRConstantInputWarning: An input array is constant; the correlation coefficient is not defined.\n",
      "  warnings.warn(SpearmanRConstantInputWarning())\n",
      "/home/irodri15/.local/lib/python3.7/site-packages/scipy/stats/stats.py:4484: SpearmanRConstantInputWarning: An input array is constant; the correlation coefficient is not defined.\n",
      "  warnings.warn(SpearmanRConstantInputWarning())\n",
      "/home/irodri15/.local/lib/python3.7/site-packages/scipy/stats/stats.py:4484: SpearmanRConstantInputWarning: An input array is constant; the correlation coefficient is not defined.\n",
      "  warnings.warn(SpearmanRConstantInputWarning())\n",
      "/home/irodri15/.local/lib/python3.7/site-packages/scipy/stats/stats.py:4484: SpearmanRConstantInputWarning: An input array is constant; the correlation coefficient is not defined.\n",
      "  warnings.warn(SpearmanRConstantInputWarning())\n",
      "/home/irodri15/.local/lib/python3.7/site-packages/scipy/stats/stats.py:4484: SpearmanRConstantInputWarning: An input array is constant; the correlation coefficient is not defined.\n",
      "  warnings.warn(SpearmanRConstantInputWarning())\n",
      "/home/irodri15/.local/lib/python3.7/site-packages/scipy/stats/stats.py:4484: SpearmanRConstantInputWarning: An input array is constant; the correlation coefficient is not defined.\n",
      "  warnings.warn(SpearmanRConstantInputWarning())\n"
     ]
    },
    {
     "name": "stdout",
     "output_type": "stream",
     "text": [
      "Layer bn5c_branch2b score: nan\n",
      "1/1 [==============================] - 0s 484ms/step\n",
      "Layer activation_47 score: nan\n",
      "1/1 [==============================] - 0s 486ms/step\n",
      "Layer res5c_branch2c score: 0.009598018\n",
      "1/1 [==============================] - 0s 487ms/step\n",
      "Layer bn5c_branch2c score: 0.0019193168\n",
      "1/1 [==============================] - 1s 520ms/step\n",
      "Layer add_15 score: 0.29033306\n",
      "1/1 [==============================] - 0s 479ms/step\n",
      "Layer activation_48 score: 0.22708234\n",
      "1/1 [==============================] - 0s 488ms/step\n",
      "Cannot resize incompatible shapes\n",
      "1/1 [==============================] - 0s 490ms/step\n",
      "Cannot resize incompatible shapes\n",
      "Unceiled Brainscore for your model is : 0.30996594\n",
      "ceiled Brainscore for your model is : 0.5052779489113157\n"
     ]
    }
   ],
   "source": [
    "# harmonized_resnet\n",
    "model= load_ResNet50()\n",
    "scores=[]\n",
    "for layer in model.layers[-10:]:\n",
    "    name = layer.name\n",
    "    nn = name.replace('/','_') \n",
    "    try: \n",
    "        activation_model = tf.keras.Model(model.input, model.get_layer(name).output)\n",
    "        activity_array = activation_model.predict(X_pre)\n",
    "        layer_brainscore, dice_1 =score_model(activity_array,Y,grid_size=9)\n",
    "        scores.append(layer_brainscore[0])\n",
    "        print(f'Layer {nn} score:',layer_brainscore[0])\n",
    "    except Exception as e: \n",
    "        print(e)\n",
    "        continue\n",
    "brain_score = max(scores)\n",
    "print('Unceiled Brainscore for your model is :', brain_score)\n",
    "print('ceiled Brainscore for your model is :', brain_score/ceil_score)"
   ]
  },
  {
   "cell_type": "code",
   "execution_count": null,
   "id": "bd957077",
   "metadata": {},
   "outputs": [],
   "source": []
  }
 ],
 "metadata": {
  "kernelspec": {
   "display_name": "Python 3",
   "language": "python",
   "name": "python3"
  },
  "language_info": {
   "codemirror_mode": {
    "name": "ipython",
    "version": 3
   },
   "file_extension": ".py",
   "mimetype": "text/x-python",
   "name": "python",
   "nbconvert_exporter": "python",
   "pygments_lexer": "ipython3",
   "version": "3.7.3"
  }
 },
 "nbformat": 4,
 "nbformat_minor": 5
}
