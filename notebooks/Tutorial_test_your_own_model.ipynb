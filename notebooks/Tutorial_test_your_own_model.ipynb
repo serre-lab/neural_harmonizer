{
 "cells": [
  {
   "cell_type": "code",
   "execution_count": null,
   "id": "de66f27f",
   "metadata": {},
   "outputs": [],
   "source": [
    "from neural_harmonizer.data.dataset import Neural_dataset"
   ]
  },
  {
   "cell_type": "code",
   "execution_count": null,
   "id": "53571083",
   "metadata": {},
   "outputs": [],
   "source": [
    "neural_ds = Neural_dataset()\n",
    "X_or, X_pre, Y =  neural_ds.load_data(stimuli='george_central_it',time_a=130,time_b=170)\n"
   ]
  },
  {
   "cell_type": "code",
   "execution_count": null,
   "id": "f3cfa029",
   "metadata": {},
   "outputs": [],
   "source": [
    "!pip install harmonization -q"
   ]
  },
  {
   "cell_type": "code",
   "execution_count": null,
   "id": "f5fd1d22",
   "metadata": {},
   "outputs": [
    {
     "name": "stdout",
     "output_type": "stream",
     "text": [
      "1/1 [==============================] - 3s 3s/step\n"
     ]
    }
   ],
   "source": [
    "import tensorflow as tf\n",
    "from neural_harmonizer.evaluation.metrics import ceiling_score \n",
    "from neural_harmonizer.evaluation import score_model\n",
    "from harmonization.models import load_ResNet50\n",
    "# harmonized_resnet\n",
    "model= load_ResNet50()\n",
    "\n",
    "neural_array= neural_ds.george_central_it\n",
    "ceil_score = ceiling_score(neural_array,time_a=130,time_b=170)\n",
    "scores=[]\n",
    "for layer in model.layers[-10:]:\n",
    "    name = layer.name\n",
    "    nn = name.replace('/','_') \n",
    "    try: \n",
    "        activation_model = tf.keras.Model(model.input, model.get_layer(name).output)\n",
    "        activity_array = activation_model.predict(X_pre)\n",
    "        layer_brainscore, dice_1 =score_model(activity_array,Y,grid_size=17)\n",
    "        scores.append(layer_brainscore[0])\n",
    "        print(f'Layer {nn} score:',layer_brainscore[0])\n",
    "    except Exception as e: \n",
    "        \n",
    "        continue\n",
    "brain_score = max(scores)\n",
    "print('Unceiled Brainscore for your model is :', brain_score)\n",
    "print('ceiled Brainscore for your model is :', brain_score/ceil_score)"
   ]
  },
  {
   "cell_type": "code",
   "execution_count": null,
   "id": "69c54a48",
   "metadata": {},
   "outputs": [],
   "source": [
    "Y[0].mean(axis=2).shape"
   ]
  },
  {
   "cell_type": "code",
   "execution_count": null,
   "id": "626a5a41",
   "metadata": {},
   "outputs": [],
   "source": [
    "scores"
   ]
  },
  {
   "cell_type": "code",
   "execution_count": null,
   "id": "a5909bf7",
   "metadata": {},
   "outputs": [],
   "source": []
  }
 ],
 "metadata": {
  "kernelspec": {
   "display_name": "Python 3",
   "language": "python",
   "name": "python3"
  },
  "language_info": {
   "codemirror_mode": {
    "name": "ipython",
    "version": 3
   },
   "file_extension": ".py",
   "mimetype": "text/x-python",
   "name": "python",
   "nbconvert_exporter": "python",
   "pygments_lexer": "ipython3",
   "version": "3.7.3"
  }
 },
 "nbformat": 4,
 "nbformat_minor": 5
}
